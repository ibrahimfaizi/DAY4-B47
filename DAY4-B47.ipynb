{
 "cells": [
  {
   "cell_type": "code",
   "execution_count": 5,
   "id": "4dcb56c0",
   "metadata": {},
   "outputs": [],
   "source": [
    "students = ['adil','rafi','shafi','nawaz','moin','raza']"
   ]
  },
  {
   "cell_type": "code",
   "execution_count": 6,
   "id": "b8e43383",
   "metadata": {},
   "outputs": [
    {
     "name": "stdout",
     "output_type": "stream",
     "text": [
      "['adil', 'rafi', 'shafi', 'nawaz', 'moin', 'raza']\n"
     ]
    }
   ],
   "source": [
    "print(students)"
   ]
  },
  {
   "cell_type": "code",
   "execution_count": 7,
   "id": "b3ba3ae0",
   "metadata": {},
   "outputs": [
    {
     "data": {
      "text/plain": [
       "list"
      ]
     },
     "execution_count": 7,
     "metadata": {},
     "output_type": "execute_result"
    }
   ],
   "source": [
    "type(students)"
   ]
  },
  {
   "cell_type": "code",
   "execution_count": null,
   "id": "15d4a84a",
   "metadata": {},
   "outputs": [],
   "source": [
    "indexing starts from 0.1.2.3.4.5"
   ]
  },
  {
   "cell_type": "code",
   "execution_count": 8,
   "id": "1bd42b2d",
   "metadata": {},
   "outputs": [
    {
     "name": "stdout",
     "output_type": "stream",
     "text": [
      "rafi\n"
     ]
    }
   ],
   "source": [
    "print(students[1])"
   ]
  },
  {
   "cell_type": "code",
   "execution_count": 9,
   "id": "987a334f",
   "metadata": {},
   "outputs": [
    {
     "name": "stdout",
     "output_type": "stream",
     "text": [
      "moin\n"
     ]
    }
   ],
   "source": [
    "print(student[4])"
   ]
  },
  {
   "cell_type": "code",
   "execution_count": 11,
   "id": "6eefc244",
   "metadata": {},
   "outputs": [
    {
     "name": "stdout",
     "output_type": "stream",
     "text": [
      "Rafi\n"
     ]
    }
   ],
   "source": [
    "print(students[1].title())"
   ]
  },
  {
   "cell_type": "code",
   "execution_count": 12,
   "id": "b364b376",
   "metadata": {},
   "outputs": [
    {
     "name": "stdout",
     "output_type": "stream",
     "text": [
      "['adil', 'rafi', 'shafi', 'nawaz', 'moin', 'raza']\n"
     ]
    }
   ],
   "source": [
    "print(students)"
   ]
  },
  {
   "cell_type": "code",
   "execution_count": 16,
   "id": "b94e52c3",
   "metadata": {},
   "outputs": [
    {
     "name": "stdout",
     "output_type": "stream",
     "text": [
      "Adil\n"
     ]
    }
   ],
   "source": [
    "print(students[0].title())"
   ]
  },
  {
   "cell_type": "code",
   "execution_count": null,
   "id": "0462b5b4",
   "metadata": {},
   "outputs": [],
   "source": [
    "3 possible ways\n",
    "1)add\n",
    "2)modify\n",
    "3)delete the elements"
   ]
  },
  {
   "cell_type": "code",
   "execution_count": null,
   "id": "e51a10d0",
   "metadata": {},
   "outputs": [],
   "source": [
    "adding"
   ]
  },
  {
   "cell_type": "code",
   "execution_count": 17,
   "id": "732b4715",
   "metadata": {},
   "outputs": [],
   "source": [
    "students.append('raheem')"
   ]
  },
  {
   "cell_type": "code",
   "execution_count": 18,
   "id": "5ce54aec",
   "metadata": {},
   "outputs": [
    {
     "name": "stdout",
     "output_type": "stream",
     "text": [
      "['adil', 'rafi', 'shafi', 'nawaz', 'moin', 'raza', 'raheem']\n"
     ]
    }
   ],
   "source": [
    "print(students)"
   ]
  },
  {
   "cell_type": "code",
   "execution_count": 19,
   "id": "c95c52b1",
   "metadata": {},
   "outputs": [],
   "source": [
    "students.append('faheem')"
   ]
  },
  {
   "cell_type": "code",
   "execution_count": 20,
   "id": "5098b727",
   "metadata": {},
   "outputs": [
    {
     "name": "stdout",
     "output_type": "stream",
     "text": [
      "['adil', 'rafi', 'shafi', 'nawaz', 'moin', 'raza', 'raheem', 'faheem']\n"
     ]
    }
   ],
   "source": [
    "print(students)"
   ]
  },
  {
   "cell_type": "code",
   "execution_count": null,
   "id": "883532e6",
   "metadata": {},
   "outputs": [],
   "source": [
    "for indexing elements at desired place we used insert "
   ]
  },
  {
   "cell_type": "code",
   "execution_count": 21,
   "id": "3dfade8c",
   "metadata": {},
   "outputs": [],
   "source": [
    "students.insert(1,'ali')"
   ]
  },
  {
   "cell_type": "code",
   "execution_count": 22,
   "id": "59b3afb0",
   "metadata": {},
   "outputs": [
    {
     "name": "stdout",
     "output_type": "stream",
     "text": [
      "['adil', 'ali', 'rafi', 'shafi', 'nawaz', 'moin', 'raza', 'raheem', 'faheem']\n"
     ]
    }
   ],
   "source": [
    "print(students)"
   ]
  },
  {
   "cell_type": "code",
   "execution_count": null,
   "id": "2be194cd",
   "metadata": {},
   "outputs": [],
   "source": [
    "differense b/w append & insert \n",
    "append (to add te elements)\n",
    "insert (adding the elements to the desired index in a list)"
   ]
  },
  {
   "cell_type": "code",
   "execution_count": null,
   "id": "ad8daa96",
   "metadata": {},
   "outputs": [],
   "source": [
    "modify"
   ]
  },
  {
   "cell_type": "code",
   "execution_count": 23,
   "id": "49c109e7",
   "metadata": {},
   "outputs": [],
   "source": [
    "students[0] = 'waseem'"
   ]
  },
  {
   "cell_type": "code",
   "execution_count": 24,
   "id": "ee7e5ba8",
   "metadata": {},
   "outputs": [
    {
     "name": "stdout",
     "output_type": "stream",
     "text": [
      "['waseem', 'ali', 'rafi', 'shafi', 'nawaz', 'moin', 'raza', 'raheem', 'faheem']\n"
     ]
    }
   ],
   "source": [
    "print(students)"
   ]
  },
  {
   "cell_type": "code",
   "execution_count": 26,
   "id": "04b48b4e",
   "metadata": {},
   "outputs": [],
   "source": [
    "students[5] = 'umar'"
   ]
  },
  {
   "cell_type": "code",
   "execution_count": 27,
   "id": "dda3b316",
   "metadata": {},
   "outputs": [
    {
     "name": "stdout",
     "output_type": "stream",
     "text": [
      "['waseem', 'ali', 'rafi', 'shafi', 'nawaz', 'umar', 'raza', 'raheem', 'faheem']\n"
     ]
    }
   ],
   "source": [
    "print(students)"
   ]
  },
  {
   "cell_type": "code",
   "execution_count": null,
   "id": "be8fba91",
   "metadata": {},
   "outputs": [],
   "source": [
    "deleting"
   ]
  },
  {
   "cell_type": "code",
   "execution_count": 28,
   "id": "a7706388",
   "metadata": {},
   "outputs": [],
   "source": [
    "del students[0]"
   ]
  },
  {
   "cell_type": "code",
   "execution_count": 29,
   "id": "44131905",
   "metadata": {},
   "outputs": [
    {
     "name": "stdout",
     "output_type": "stream",
     "text": [
      "['ali', 'rafi', 'shafi', 'nawaz', 'umar', 'raza', 'raheem', 'faheem']\n"
     ]
    }
   ],
   "source": [
    "print(students)"
   ]
  },
  {
   "cell_type": "code",
   "execution_count": 30,
   "id": "c50a4cbe",
   "metadata": {},
   "outputs": [],
   "source": [
    "del students[5]"
   ]
  },
  {
   "cell_type": "code",
   "execution_count": 31,
   "id": "670edfab",
   "metadata": {},
   "outputs": [
    {
     "name": "stdout",
     "output_type": "stream",
     "text": [
      "['ali', 'rafi', 'shafi', 'nawaz', 'umar', 'raheem', 'faheem']\n"
     ]
    }
   ],
   "source": [
    "print(students)"
   ]
  },
  {
   "cell_type": "code",
   "execution_count": null,
   "id": "17c05a3b",
   "metadata": {},
   "outputs": [],
   "source": [
    "temp deleting we use pop"
   ]
  },
  {
   "cell_type": "code",
   "execution_count": 33,
   "id": "9ffbe318",
   "metadata": {},
   "outputs": [],
   "source": [
    "x = students.pop()"
   ]
  },
  {
   "cell_type": "code",
   "execution_count": 34,
   "id": "24f9b7de",
   "metadata": {},
   "outputs": [
    {
     "name": "stdout",
     "output_type": "stream",
     "text": [
      "['ali', 'rafi', 'shafi', 'nawaz', 'umar', 'raheem']\n"
     ]
    }
   ],
   "source": [
    "print(students)"
   ]
  },
  {
   "cell_type": "code",
   "execution_count": 35,
   "id": "a53d7940",
   "metadata": {},
   "outputs": [
    {
     "name": "stdout",
     "output_type": "stream",
     "text": [
      "faheem\n"
     ]
    }
   ],
   "source": [
    "print(x)"
   ]
  },
  {
   "cell_type": "code",
   "execution_count": null,
   "id": "a665e21f",
   "metadata": {},
   "outputs": [],
   "source": []
  }
 ],
 "metadata": {
  "kernelspec": {
   "display_name": "Python 3",
   "language": "python",
   "name": "python3"
  },
  "language_info": {
   "codemirror_mode": {
    "name": "ipython",
    "version": 3
   },
   "file_extension": ".py",
   "mimetype": "text/x-python",
   "name": "python",
   "nbconvert_exporter": "python",
   "pygments_lexer": "ipython3",
   "version": "3.8.8"
  }
 },
 "nbformat": 4,
 "nbformat_minor": 5
}
